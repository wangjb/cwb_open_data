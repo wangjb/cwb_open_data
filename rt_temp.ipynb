{
  "nbformat": 4,
  "nbformat_minor": 0,
  "metadata": {
    "colab": {
      "name": "rt_temp.ipynb",
      "provenance": [],
      "collapsed_sections": [],
      "authorship_tag": "ABX9TyNCgbVGdCY4oPteA5tYrmeD",
      "include_colab_link": true
    },
    "kernelspec": {
      "name": "python3",
      "display_name": "Python 3"
    }
  },
  "cells": [
    {
      "cell_type": "markdown",
      "metadata": {
        "id": "view-in-github",
        "colab_type": "text"
      },
      "source": [
        "<a href=\"https://colab.research.google.com/github/wangjb/cwb_open_data/blob/master/rt_temp.ipynb\" target=\"_parent\"><img src=\"https://colab.research.google.com/assets/colab-badge.svg\" alt=\"Open In Colab\"/></a>"
      ]
    },
    {
      "cell_type": "code",
      "metadata": {
        "id": "ciR-K0Zf1oNO",
        "colab_type": "code",
        "colab": {}
      },
      "source": [
        "def retrieve_data(datacode,auth):\n",
        "  import urllib\n",
        "  # query string to CWB open data service\n",
        "  url='https://opendata.cwb.gov.tw/'\n",
        "  sub_path='fileapi/v1/opendataapi/'\n",
        "  # instant 10 min precip\n",
        "  datalimit=''\n",
        "  dataoffset=''\n",
        "  dataformat='JSON'\n",
        "  stationID=''\n",
        "  datastatus=''\n",
        "\n",
        "  # create query string\n",
        "  url_path=url+sub_path+datacode\n",
        "  query_fields=['Authorization','limit','offset','format','stationID','status']\n",
        "  query_data=(auth,datalimit,dataoffset,dataformat,stationID,datastatus)\n",
        "  query_string=dict(zip(query_fields,query_data))\n",
        "\n",
        "  # request data\n",
        "  import requests\n",
        "  r = requests.get(url_path,params=query_string,stream=True)\n",
        "  jsondata = r.json()\n",
        "\n",
        "  return jsondata"
      ],
      "execution_count": 1,
      "outputs": []
    },
    {
      "cell_type": "code",
      "metadata": {
        "id": "08pjmlcQ3ZhH",
        "colab_type": "code",
        "colab": {}
      },
      "source": [
        "datacode = 'O-A0038-003'\n",
        "auth = None\n",
        "\n",
        "data = retrieve_data(datacode, auth)"
      ],
      "execution_count": 2,
      "outputs": []
    },
    {
      "cell_type": "code",
      "metadata": {
        "id": "UK8_Tig14Itf",
        "colab_type": "code",
        "colab": {
          "base_uri": "https://localhost:8080/",
          "height": 153
        },
        "outputId": "cb17fffb-d68e-4751-ec71-9fd0421c7518"
      },
      "source": [
        "data['cwbopendata']['dataset']['datasetInfo']"
      ],
      "execution_count": 3,
      "outputs": [
        {
          "output_type": "execute_result",
          "data": {
            "text/plain": [
              "{'datasetDescription': '小時溫度觀測分析格點',\n",
              " 'parameterSet': {'parameter': [{'parameterName': '左下角(經度,緯度)',\n",
              "    'parameterValue': '120.0,21.88'},\n",
              "   {'parameterName': '解析度(度)', 'parameterValue': '0.03'},\n",
              "   {'parameterName': '網格資料時間(世界標準時)',\n",
              "    'parameterValue': '2020-08-10T07:00:00+00:00'},\n",
              "   {'parameterName': '維度(nx*ny)', 'parameterValue': '67*120'},\n",
              "   {'parameterName': '單位', 'parameterValue': '攝氏'}]}}"
            ]
          },
          "metadata": {
            "tags": []
          },
          "execution_count": 3
        }
      ]
    },
    {
      "cell_type": "code",
      "metadata": {
        "id": "8tpW57kH4TgH",
        "colab_type": "code",
        "colab": {}
      },
      "source": [
        "import ast\n",
        "import numpy as np\n",
        "data = np.asarray(ast.literal_eval(data['cwbopendata']['dataset']['contents']['content'].replace('\\n',',')))\n",
        "data = data.reshape((120,67))"
      ],
      "execution_count": 4,
      "outputs": []
    },
    {
      "cell_type": "code",
      "metadata": {
        "id": "0355i1nA4t5f",
        "colab_type": "code",
        "colab": {
          "base_uri": "https://localhost:8080/",
          "height": 285
        },
        "outputId": "e9cdbf3f-43a3-437c-bbb3-168792f59ec0"
      },
      "source": [
        "import matplotlib.pyplot as plt\n",
        "import matplotlib\n",
        "%matplotlib inline  \n",
        "\n",
        "mask_id = np.where(data==-999.0)\n",
        "data[mask_id] = np.nan\n",
        "ma = np.ma.array(data,mask=np.isnan(data))\n",
        "plt.imshow(np.flip(ma,0),cmap='jet')"
      ],
      "execution_count": 5,
      "outputs": [
        {
          "output_type": "execute_result",
          "data": {
            "text/plain": [
              "<matplotlib.image.AxesImage at 0x7f64c7296320>"
            ]
          },
          "metadata": {
            "tags": []
          },
          "execution_count": 5
        },
        {
          "output_type": "display_data",
          "data": {
            "image/png": "[encoded data removed]",
            "text/plain": [
              "<Figure size 432x288 with 1 Axes>"
            ]
          },
          "metadata": {
            "tags": [],
            "needs_background": "light"
          }
        }
      ]
    },
    {
      "cell_type": "code",
      "metadata": {
        "id": "Q3f7oEOn6SLn",
        "colab_type": "code",
        "colab": {}
      },
      "source": [
        ""
      ],
      "execution_count": null,
      "outputs": []
    }
  ]
}