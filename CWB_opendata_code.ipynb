{
  "nbformat": 4,
  "nbformat_minor": 0,
  "metadata": {
    "colab": {
      "name": "CWB opendata code",
      "provenance": [],
      "collapsed_sections": [],
      "authorship_tag": "ABX9TyOuAS6DYcnLqd1LFn0/LEHT",
      "include_colab_link": true
    },
    "kernelspec": {
      "name": "python3",
      "display_name": "Python 3"
    }
  },
  "cells": [
    {
      "cell_type": "markdown",
      "metadata": {
        "id": "view-in-github",
        "colab_type": "text"
      },
      "source": [
        "<a href=\"https://colab.research.google.com/github/wangjb/radar_data_processing/blob/master/CWB_opendata_code.ipynb\" target=\"_parent\"><img src=\"https://colab.research.google.com/assets/colab-badge.svg\" alt=\"Open In Colab\"/></a>"
      ]
    },
    {
      "cell_type": "markdown",
      "metadata": {
        "id": "YRn-FEVpppp5",
        "colab_type": "text"
      },
      "source": [
        "# Radar CREF data"
      ]
    },
    {
      "cell_type": "code",
      "metadata": {
        "id": "LbLdBo1WVD_O",
        "colab_type": "code",
        "colab": {
          "base_uri": "https://localhost:8080/",
          "height": 34
        },
        "outputId": "8c7a2ba3-1fe0-47f7-9482-0297c28cb33f"
      },
      "source": [
        "import urllib\n",
        "# query string to CWB open data service\n",
        "\n",
        "url='https://opendata.cwb.gov.tw/'\n",
        "#sub_path='api/v1/rest/datastore/'\n",
        "sub_path='fileapi/v1/opendataapi/'\n",
        "\n",
        "# radar CREF data\n",
        "#datacode=C-B0074-001\n",
        "datacode='O-A0059-001'\n",
        "auth='CWB-31ADCF8F-BA9A-4418-A7C0-9D3C0761F8F6'\n",
        "datalimit=''\n",
        "dataoffset=''\n",
        "dataformat='JSON'\n",
        "stationID=''\n",
        "datastatus=''\n",
        "\n",
        "# create query string\n",
        "url_path=url+sub_path+datacode\n",
        "query_fields=['Authorization','limit','offset','format','stationID','status']\n",
        "query_data=(auth,datalimit,dataoffset,dataformat,stationID,datastatus)\n",
        "query_string=dict(zip(query_fields,query_data))\n",
        "#url_path+='?'+urllib.parse.urlencode(query_string)\n",
        "print(url_path)"
      ],
      "execution_count": null,
      "outputs": [
        {
          "output_type": "stream",
          "text": [
            "https://opendata.cwb.gov.tw/fileapi/v1/opendataapi/O-A0059-001\n"
          ],
          "name": "stdout"
        }
      ]
    },
    {
      "cell_type": "code",
      "metadata": {
        "id": "A_Hb6eEUX2Jq",
        "colab_type": "code",
        "colab": {}
      },
      "source": [
        "import requests\n",
        "r = requests.get(url_path,params=query_string,stream=True)\n",
        "jsondata = r.json()"
      ],
      "execution_count": null,
      "outputs": []
    },
    {
      "cell_type": "code",
      "metadata": {
        "id": "tDtLWu64oPiK",
        "colab_type": "code",
        "colab": {
          "base_uri": "https://localhost:8080/",
          "height": 136
        },
        "outputId": "1c9c1623-6136-4bc8-f5b4-f6a1d5c58013"
      },
      "source": [
        "jsondata['cwbopendata']['dataset']['datasetInfo']"
      ],
      "execution_count": null,
      "outputs": [
        {
          "output_type": "execute_result",
          "data": {
            "text/plain": [
              "{'datasetDescription': '雷達合成回波',\n",
              " 'parameterSet': {'parameter': [{'parameterName': '左下角',\n",
              "    'parameterValue': '115.0,18.0'},\n",
              "   {'parameterName': '解析度', 'parameterValue': '0.0125'},\n",
              "   {'parameterName': '時間', 'parameterValue': '2020-07-31T10:00:00+08:00'},\n",
              "   {'parameterName': '維度(nx*ny)', 'parameterValue': '921*881'},\n",
              "   {'parameterName': '單位', 'parameterValue': 'dBZ'}]}}"
            ]
          },
          "metadata": {
            "tags": []
          },
          "execution_count": 86
        }
      ]
    },
    {
      "cell_type": "code",
      "metadata": {
        "id": "hChQAlj4mPCs",
        "colab_type": "code",
        "colab": {}
      },
      "source": [
        "import ast\n",
        "import numpy as np\n",
        "data = np.asarray(ast.literal_eval(jsondata['cwbopendata']['dataset']['contents']['content']))\n",
        "data = data.reshape((881,921))"
      ],
      "execution_count": null,
      "outputs": []
    },
    {
      "cell_type": "code",
      "metadata": {
        "id": "yim-bixIroT4",
        "colab_type": "code",
        "colab": {
          "base_uri": "https://localhost:8080/",
          "height": 286
        },
        "outputId": "401b3d25-db3e-4d5e-f779-c996f9a2390e"
      },
      "source": [
        "import matplotlib.pyplot as plt\n",
        "import matplotlib\n",
        "%matplotlib inline  \n",
        "\n",
        "mask_id = np.where(data==-999.0)\n",
        "data[mask_id] = np.nan\n",
        "ma = np.ma.array(data,mask=np.isnan(data))\n",
        "plt.imshow(ma,cmap='jet')"
      ],
      "execution_count": null,
      "outputs": [
        {
          "output_type": "execute_result",
          "data": {
            "text/plain": [
              "<matplotlib.image.AxesImage at 0x7f93e3fd9908>"
            ]
          },
          "metadata": {
            "tags": []
          },
          "execution_count": 6
        },
        {
          "output_type": "display_data",
          "data": {
            "image/png": "[encoded data removed]",
            "text/plain": [
              "<Figure size 432x288 with 1 Axes>"
            ]
          },
          "metadata": {
            "tags": [],
            "needs_background": "light"
          }
        }
      ]
    },
    {
      "cell_type": "code",
      "metadata": {
        "id": "axxIMV6hxjrX",
        "colab_type": "code",
        "colab": {
          "base_uri": "https://localhost:8080/",
          "height": 105
        },
        "outputId": "7b2dae10-5c70-45fe-d64a-1cdc0e67539f"
      },
      "source": [
        "pip install --user git+https://github.com/matplotlib/basemap.git"
      ],
      "execution_count": null,
      "outputs": [
        {
          "output_type": "stream",
          "text": [
            "Collecting git+https://github.com/matplotlib/basemap.git\n",
            "  Cloning https://github.com/matplotlib/basemap.git to /tmp/pip-req-build-px5r5uyi\n",
            "  Running command git clone -q https://github.com/matplotlib/basemap.git /tmp/pip-req-build-px5r5uyi\n",
            "\u001b[31mERROR: Command errored out with exit status 1: python setup.py egg_info Check the logs for full command output.\u001b[0m\n"
          ],
          "name": "stdout"
        }
      ]
    },
    {
      "cell_type": "code",
      "metadata": {
        "id": "mO_ppWpv2csV",
        "colab_type": "code",
        "colab": {}
      },
      "source": [
        ""
      ],
      "execution_count": null,
      "outputs": []
    }
  ]
}